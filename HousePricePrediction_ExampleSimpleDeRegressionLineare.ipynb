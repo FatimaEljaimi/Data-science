{
 "cells": [
  {
   "cell_type": "markdown",
   "id": "c53e0c83",
   "metadata": {},
   "source": [
    "# Exemple simple de régression Linéaire\n",
    "\n",
    "## Prédiction du prix des maisons à Boston avec Scikit-learn\n",
    "\n",
    "\n",
    "Nous prendrons le jeu de données Housing qui contient des informations sur différentes maisons à Boston. Il y a 506 exemples et 13  caractéristiques dans cet ensemble de données. L objectif est de prédire les prix des maisons en utilisant les caractéristiques données.\n",
    "\n"
   ]
  },
  {
   "cell_type": "code",
   "execution_count": 1,
   "id": "b0a4335a",
   "metadata": {},
   "outputs": [
    {
     "name": "stdout",
     "output_type": "stream",
     "text": [
      "{'data': array([[6.3200e-03, 1.8000e+01, 2.3100e+00, ..., 1.5300e+01, 3.9690e+02,\n",
      "        4.9800e+00],\n",
      "       [2.7310e-02, 0.0000e+00, 7.0700e+00, ..., 1.7800e+01, 3.9690e+02,\n",
      "        9.1400e+00],\n",
      "       [2.7290e-02, 0.0000e+00, 7.0700e+00, ..., 1.7800e+01, 3.9283e+02,\n",
      "        4.0300e+00],\n",
      "       ...,\n",
      "       [6.0760e-02, 0.0000e+00, 1.1930e+01, ..., 2.1000e+01, 3.9690e+02,\n",
      "        5.6400e+00],\n",
      "       [1.0959e-01, 0.0000e+00, 1.1930e+01, ..., 2.1000e+01, 3.9345e+02,\n",
      "        6.4800e+00],\n",
      "       [4.7410e-02, 0.0000e+00, 1.1930e+01, ..., 2.1000e+01, 3.9690e+02,\n",
      "        7.8800e+00]]), 'target': array([24. , 21.6, 34.7, 33.4, 36.2, 28.7, 22.9, 27.1, 16.5, 18.9, 15. ,\n",
      "       18.9, 21.7, 20.4, 18.2, 19.9, 23.1, 17.5, 20.2, 18.2, 13.6, 19.6,\n",
      "       15.2, 14.5, 15.6, 13.9, 16.6, 14.8, 18.4, 21. , 12.7, 14.5, 13.2,\n",
      "       13.1, 13.5, 18.9, 20. , 21. , 24.7, 30.8, 34.9, 26.6, 25.3, 24.7,\n",
      "       21.2, 19.3, 20. , 16.6, 14.4, 19.4, 19.7, 20.5, 25. , 23.4, 18.9,\n",
      "       35.4, 24.7, 31.6, 23.3, 19.6, 18.7, 16. , 22.2, 25. , 33. , 23.5,\n",
      "       19.4, 22. , 17.4, 20.9, 24.2, 21.7, 22.8, 23.4, 24.1, 21.4, 20. ,\n",
      "       20.8, 21.2, 20.3, 28. , 23.9, 24.8, 22.9, 23.9, 26.6, 22.5, 22.2,\n",
      "       23.6, 28.7, 22.6, 22. , 22.9, 25. , 20.6, 28.4, 21.4, 38.7, 43.8,\n",
      "       33.2, 27.5, 26.5, 18.6, 19.3, 20.1, 19.5, 19.5, 20.4, 19.8, 19.4,\n",
      "       21.7, 22.8, 18.8, 18.7, 18.5, 18.3, 21.2, 19.2, 20.4, 19.3, 22. ,\n",
      "       20.3, 20.5, 17.3, 18.8, 21.4, 15.7, 16.2, 18. , 14.3, 19.2, 19.6,\n",
      "       23. , 18.4, 15.6, 18.1, 17.4, 17.1, 13.3, 17.8, 14. , 14.4, 13.4,\n",
      "       15.6, 11.8, 13.8, 15.6, 14.6, 17.8, 15.4, 21.5, 19.6, 15.3, 19.4,\n",
      "       17. , 15.6, 13.1, 41.3, 24.3, 23.3, 27. , 50. , 50. , 50. , 22.7,\n",
      "       25. , 50. , 23.8, 23.8, 22.3, 17.4, 19.1, 23.1, 23.6, 22.6, 29.4,\n",
      "       23.2, 24.6, 29.9, 37.2, 39.8, 36.2, 37.9, 32.5, 26.4, 29.6, 50. ,\n",
      "       32. , 29.8, 34.9, 37. , 30.5, 36.4, 31.1, 29.1, 50. , 33.3, 30.3,\n",
      "       34.6, 34.9, 32.9, 24.1, 42.3, 48.5, 50. , 22.6, 24.4, 22.5, 24.4,\n",
      "       20. , 21.7, 19.3, 22.4, 28.1, 23.7, 25. , 23.3, 28.7, 21.5, 23. ,\n",
      "       26.7, 21.7, 27.5, 30.1, 44.8, 50. , 37.6, 31.6, 46.7, 31.5, 24.3,\n",
      "       31.7, 41.7, 48.3, 29. , 24. , 25.1, 31.5, 23.7, 23.3, 22. , 20.1,\n",
      "       22.2, 23.7, 17.6, 18.5, 24.3, 20.5, 24.5, 26.2, 24.4, 24.8, 29.6,\n",
      "       42.8, 21.9, 20.9, 44. , 50. , 36. , 30.1, 33.8, 43.1, 48.8, 31. ,\n",
      "       36.5, 22.8, 30.7, 50. , 43.5, 20.7, 21.1, 25.2, 24.4, 35.2, 32.4,\n",
      "       32. , 33.2, 33.1, 29.1, 35.1, 45.4, 35.4, 46. , 50. , 32.2, 22. ,\n",
      "       20.1, 23.2, 22.3, 24.8, 28.5, 37.3, 27.9, 23.9, 21.7, 28.6, 27.1,\n",
      "       20.3, 22.5, 29. , 24.8, 22. , 26.4, 33.1, 36.1, 28.4, 33.4, 28.2,\n",
      "       22.8, 20.3, 16.1, 22.1, 19.4, 21.6, 23.8, 16.2, 17.8, 19.8, 23.1,\n",
      "       21. , 23.8, 23.1, 20.4, 18.5, 25. , 24.6, 23. , 22.2, 19.3, 22.6,\n",
      "       19.8, 17.1, 19.4, 22.2, 20.7, 21.1, 19.5, 18.5, 20.6, 19. , 18.7,\n",
      "       32.7, 16.5, 23.9, 31.2, 17.5, 17.2, 23.1, 24.5, 26.6, 22.9, 24.1,\n",
      "       18.6, 30.1, 18.2, 20.6, 17.8, 21.7, 22.7, 22.6, 25. , 19.9, 20.8,\n",
      "       16.8, 21.9, 27.5, 21.9, 23.1, 50. , 50. , 50. , 50. , 50. , 13.8,\n",
      "       13.8, 15. , 13.9, 13.3, 13.1, 10.2, 10.4, 10.9, 11.3, 12.3,  8.8,\n",
      "        7.2, 10.5,  7.4, 10.2, 11.5, 15.1, 23.2,  9.7, 13.8, 12.7, 13.1,\n",
      "       12.5,  8.5,  5. ,  6.3,  5.6,  7.2, 12.1,  8.3,  8.5,  5. , 11.9,\n",
      "       27.9, 17.2, 27.5, 15. , 17.2, 17.9, 16.3,  7. ,  7.2,  7.5, 10.4,\n",
      "        8.8,  8.4, 16.7, 14.2, 20.8, 13.4, 11.7,  8.3, 10.2, 10.9, 11. ,\n",
      "        9.5, 14.5, 14.1, 16.1, 14.3, 11.7, 13.4,  9.6,  8.7,  8.4, 12.8,\n",
      "       10.5, 17.1, 18.4, 15.4, 10.8, 11.8, 14.9, 12.6, 14.1, 13. , 13.4,\n",
      "       15.2, 16.1, 17.8, 14.9, 14.1, 12.7, 13.5, 14.9, 20. , 16.4, 17.7,\n",
      "       19.5, 20.2, 21.4, 19.9, 19. , 19.1, 19.1, 20.1, 19.9, 19.6, 23.2,\n",
      "       29.8, 13.8, 13.3, 16.7, 12. , 14.6, 21.4, 23. , 23.7, 25. , 21.8,\n",
      "       20.6, 21.2, 19.1, 20.6, 15.2,  7. ,  8.1, 13.6, 20.1, 21.8, 24.5,\n",
      "       23.1, 19.7, 18.3, 21.2, 17.5, 16.8, 22.4, 20.6, 23.9, 22. , 11.9]), 'feature_names': array(['CRIM', 'ZN', 'INDUS', 'CHAS', 'NOX', 'RM', 'AGE', 'DIS', 'RAD',\n",
      "       'TAX', 'PTRATIO', 'B', 'LSTAT'], dtype='<U7'), 'DESCR': \".. _boston_dataset:\\n\\nBoston house prices dataset\\n---------------------------\\n\\n**Data Set Characteristics:**  \\n\\n    :Number of Instances: 506 \\n\\n    :Number of Attributes: 13 numeric/categorical predictive. Median Value (attribute 14) is usually the target.\\n\\n    :Attribute Information (in order):\\n        - CRIM     per capita crime rate by town\\n        - ZN       proportion of residential land zoned for lots over 25,000 sq.ft.\\n        - INDUS    proportion of non-retail business acres per town\\n        - CHAS     Charles River dummy variable (= 1 if tract bounds river; 0 otherwise)\\n        - NOX      nitric oxides concentration (parts per 10 million)\\n        - RM       average number of rooms per dwelling\\n        - AGE      proportion of owner-occupied units built prior to 1940\\n        - DIS      weighted distances to five Boston employment centres\\n        - RAD      index of accessibility to radial highways\\n        - TAX      full-value property-tax rate per $10,000\\n        - PTRATIO  pupil-teacher ratio by town\\n        - B        1000(Bk - 0.63)^2 where Bk is the proportion of black people by town\\n        - LSTAT    % lower status of the population\\n        - MEDV     Median value of owner-occupied homes in $1000's\\n\\n    :Missing Attribute Values: None\\n\\n    :Creator: Harrison, D. and Rubinfeld, D.L.\\n\\nThis is a copy of UCI ML housing dataset.\\nhttps://archive.ics.uci.edu/ml/machine-learning-databases/housing/\\n\\n\\nThis dataset was taken from the StatLib library which is maintained at Carnegie Mellon University.\\n\\nThe Boston house-price data of Harrison, D. and Rubinfeld, D.L. 'Hedonic\\nprices and the demand for clean air', J. Environ. Economics & Management,\\nvol.5, 81-102, 1978.   Used in Belsley, Kuh & Welsch, 'Regression diagnostics\\n...', Wiley, 1980.   N.B. Various transformations are used in the table on\\npages 244-261 of the latter.\\n\\nThe Boston house-price data has been used in many machine learning papers that address regression\\nproblems.   \\n     \\n.. topic:: References\\n\\n   - Belsley, Kuh & Welsch, 'Regression diagnostics: Identifying Influential Data and Sources of Collinearity', Wiley, 1980. 244-261.\\n   - Quinlan,R. (1993). Combining Instance-Based and Model-Based Learning. In Proceedings on the Tenth International Conference of Machine Learning, 236-243, University of Massachusetts, Amherst. Morgan Kaufmann.\\n\", 'filename': 'C:\\\\Users\\\\fatim\\\\anaconda3\\\\lib\\\\site-packages\\\\sklearn\\\\datasets\\\\data\\\\boston_house_prices.csv'}\n"
     ]
    }
   ],
   "source": [
    "#Chargez l'ensemble de données sur le logement de Boston à partir de sklearn.datasets\n",
    "from sklearn.datasets import load_boston\n",
    "boston_dataset = load_boston()\n",
    "\n",
    "#imprimezla valeur du boston_dataset pour comprendre ce qu'il contient.\n",
    "print(boston_dataset)"
   ]
  },
  {
   "cell_type": "markdown",
   "id": "d80a5e23",
   "metadata": {},
   "source": [
    "Note:\n",
    "\n",
    "    data : contient les informations pour différentes maisons.\n",
    "    \n",
    "    cible : prix de la maison.\n",
    "    \n",
    "    feature_names : noms des caractéristiques\n",
    "    \n",
    "    DESCR : décrit le jeu de données."
   ]
  },
  {
   "cell_type": "code",
   "execution_count": 2,
   "id": "d2d1f4a5",
   "metadata": {},
   "outputs": [
    {
     "data": {
      "text/plain": [
       "\".. _boston_dataset:\\n\\nBoston house prices dataset\\n---------------------------\\n\\n**Data Set Characteristics:**  \\n\\n    :Number of Instances: 506 \\n\\n    :Number of Attributes: 13 numeric/categorical predictive. Median Value (attribute 14) is usually the target.\\n\\n    :Attribute Information (in order):\\n        - CRIM     per capita crime rate by town\\n        - ZN       proportion of residential land zoned for lots over 25,000 sq.ft.\\n        - INDUS    proportion of non-retail business acres per town\\n        - CHAS     Charles River dummy variable (= 1 if tract bounds river; 0 otherwise)\\n        - NOX      nitric oxides concentration (parts per 10 million)\\n        - RM       average number of rooms per dwelling\\n        - AGE      proportion of owner-occupied units built prior to 1940\\n        - DIS      weighted distances to five Boston employment centres\\n        - RAD      index of accessibility to radial highways\\n        - TAX      full-value property-tax rate per $10,000\\n        - PTRATIO  pupil-teacher ratio by town\\n        - B        1000(Bk - 0.63)^2 where Bk is the proportion of black people by town\\n        - LSTAT    % lower status of the population\\n        - MEDV     Median value of owner-occupied homes in $1000's\\n\\n    :Missing Attribute Values: None\\n\\n    :Creator: Harrison, D. and Rubinfeld, D.L.\\n\\nThis is a copy of UCI ML housing dataset.\\nhttps://archive.ics.uci.edu/ml/machine-learning-databases/housing/\\n\\n\\nThis dataset was taken from the StatLib library which is maintained at Carnegie Mellon University.\\n\\nThe Boston house-price data of Harrison, D. and Rubinfeld, D.L. 'Hedonic\\nprices and the demand for clean air', J. Environ. Economics & Management,\\nvol.5, 81-102, 1978.   Used in Belsley, Kuh & Welsch, 'Regression diagnostics\\n...', Wiley, 1980.   N.B. Various transformations are used in the table on\\npages 244-261 of the latter.\\n\\nThe Boston house-price data has been used in many machine learning papers that address regression\\nproblems.   \\n     \\n.. topic:: References\\n\\n   - Belsley, Kuh & Welsch, 'Regression diagnostics: Identifying Influential Data and Sources of Collinearity', Wiley, 1980. 244-261.\\n   - Quinlan,R. (1993). Combining Instance-Based and Model-Based Learning. In Proceedings on the Tenth International Conference of Machine Learning, 236-243, University of Massachusetts, Amherst. Morgan Kaufmann.\\n\""
      ]
     },
     "execution_count": 2,
     "metadata": {},
     "output_type": "execute_result"
    }
   ],
   "source": [
    "boston_dataset.DESCR"
   ]
  },
  {
   "cell_type": "markdown",
   "id": "a77b77d6",
   "metadata": {},
   "source": [
    "## La description des Features : \n",
    "\n",
    "CRIM : taux de criminalité par habitant et par ville.\n",
    "\n",
    "ZN : Proportion des terrains résidentiels zonés pour les terrains de plus de 25 000 pi2 (sq.ft)\n",
    "\n",
    "INDUS : Proportion d'acres commerciaux non commerciaux par ville.\n",
    "\n",
    "CHAS : variable fictive Charles River (= 1 si le secteur délimite la rivière ; 0 sinon).\n",
    "\n",
    "NOX : Concentration d'oxyde nitrique (parties par 10 millions).\n",
    "\n",
    "RM : Nombre moyen de pièces par logement.\n",
    "\n",
    "AGE : Proportion de logements occupés par leur propriétaire construits avant 1940.\n",
    "\n",
    "DIS : Distances pondérées par rapport à cinq centres d'emploi de Boston.\n",
    "\n",
    "RAD : Indice d'accessibilité aux autoroutes radiales.\n",
    "\n",
    "TAXE : Taux de la taxe foncière sur la valeur totale par tranche de 10 000 $.\n",
    "\n",
    "PTRATIO : Ratio élèves-enseignant par commune.\n",
    "\n",
    "B : 1000(Bk — 0,63)², où Bk est la proportion de [personnes d'ascendance afro-américaine] par ville.\n",
    "\n",
    "LSTAT : Pourcentage de statut inférieur de la population.\n",
    "\n",
    "MEDV : Valeur médiane des maisons occupées par leur propriétaire en milliers de dollars"
   ]
  },
  {
   "cell_type": "code",
   "execution_count": 3,
   "id": "d3adedd9",
   "metadata": {
    "scrolled": true
   },
   "outputs": [
    {
     "name": "stdout",
     "output_type": "stream",
     "text": [
      "      CRIM    ZN  INDUS  CHAS    NOX     RM   AGE     DIS  RAD    TAX  \\\n",
      "0  0.00632  18.0   2.31   0.0  0.538  6.575  65.2  4.0900  1.0  296.0   \n",
      "1  0.02731   0.0   7.07   0.0  0.469  6.421  78.9  4.9671  2.0  242.0   \n",
      "2  0.02729   0.0   7.07   0.0  0.469  7.185  61.1  4.9671  2.0  242.0   \n",
      "3  0.03237   0.0   2.18   0.0  0.458  6.998  45.8  6.0622  3.0  222.0   \n",
      "4  0.06905   0.0   2.18   0.0  0.458  7.147  54.2  6.0622  3.0  222.0   \n",
      "\n",
      "   PTRATIO       B  LSTAT  MEDV  \n",
      "0     15.3  396.90   4.98  24.0  \n",
      "1     17.8  396.90   9.14  21.6  \n",
      "2     17.8  392.83   4.03  34.7  \n",
      "3     18.7  394.63   2.94  33.4  \n",
      "4     18.7  396.90   5.33  36.2  \n"
     ]
    }
   ],
   "source": [
    "#Transformez le dataset en Dataframe\n",
    "import pandas as pd\n",
    "\n",
    "data = pd.DataFrame(boston_dataset.data, columns=boston_dataset.feature_names)\n",
    "\n",
    "data['MEDV'] = boston_dataset.target\n",
    "\n",
    "print(data.head())\n"
   ]
  },
  {
   "cell_type": "markdown",
   "id": "b0d48e5e",
   "metadata": {},
   "source": [
    "Il est recommandé de voir s'il y a des valeurs manquantes dans les données. Nous comptons le nombre de valeurs manquantes pour chaque fonctionnalité en utilisant isnull()"
   ]
  },
  {
   "cell_type": "code",
   "execution_count": 4,
   "id": "0d20cb34",
   "metadata": {},
   "outputs": [
    {
     "data": {
      "text/plain": [
       "CRIM       0\n",
       "ZN         0\n",
       "INDUS      0\n",
       "CHAS       0\n",
       "NOX        0\n",
       "RM         0\n",
       "AGE        0\n",
       "DIS        0\n",
       "RAD        0\n",
       "TAX        0\n",
       "PTRATIO    0\n",
       "B          0\n",
       "LSTAT      0\n",
       "MEDV       0\n",
       "dtype: int64"
      ]
     },
     "execution_count": 4,
     "metadata": {},
     "output_type": "execute_result"
    }
   ],
   "source": [
    "data.isnull().sum()"
   ]
  },
  {
   "cell_type": "code",
   "execution_count": 5,
   "id": "4145865c",
   "metadata": {},
   "outputs": [
    {
     "data": {
      "text/plain": [
       "<seaborn.axisgrid.PairGrid at 0x1f31747b670>"
      ]
     },
     "execution_count": 5,
     "metadata": {},
     "output_type": "execute_result"
    },
    {
     "data": {
      "image/png": "[encoded data removed]",
      "text/plain": [
       "<Figure size 1260x180 with 7 Axes>"
      ]
     },
     "metadata": {
      "needs_background": "light"
     },
     "output_type": "display_data"
    }
   ],
   "source": [
    "import seaborn as sns\n",
    "\n",
    "# Permettre aux plots d'apparaître dans le notebook\n",
    "%matplotlib inline\n",
    "\n",
    "# Visualisez la relation entre les caractéristiques et la cible à l'aide de nuages de points(Scatter)\n",
    "sns.pairplot(data, x_vars=['INDUS','NOX','RM','AGE','DIS','PTRATIO','LSTAT'], y_vars='MEDV')"
   ]
  },
  {
   "cell_type": "code",
   "execution_count": 6,
   "id": "3e9caaf0",
   "metadata": {},
   "outputs": [
    {
     "name": "stdout",
     "output_type": "stream",
     "text": [
      "   INDUS    NOX     RM   AGE     DIS  PTRATIO  LSTAT\n",
      "0   2.31  0.538  6.575  65.2  4.0900     15.3   4.98\n",
      "1   7.07  0.469  6.421  78.9  4.9671     17.8   9.14\n",
      "2   7.07  0.469  7.185  61.1  4.9671     17.8   4.03\n",
      "3   2.18  0.458  6.998  45.8  6.0622     18.7   2.94\n",
      "4   2.18  0.458  7.147  54.2  6.0622     18.7   5.33\n"
     ]
    }
   ],
   "source": [
    "# créez une liste Python de noms de fonctionnalités\n",
    "feature = ['INDUS','NOX','RM','AGE','DIS','PTRATIO','LSTAT']\n",
    "\n",
    "# utilisez la liste pour sélectionner un sous-ensemble du DataFrame d'origine\n",
    "X = data[feature]\n",
    "\n",
    "# Affichez les 5 premières lignes de X \n",
    "print(X.head())\n"
   ]
  },
  {
   "cell_type": "code",
   "execution_count": 7,
   "id": "eb1c9b29",
   "metadata": {},
   "outputs": [
    {
     "name": "stdout",
     "output_type": "stream",
     "text": [
      "0    24.0\n",
      "1    21.6\n",
      "2    34.7\n",
      "3    33.4\n",
      "4    36.2\n",
      "Name: MEDV, dtype: float64\n"
     ]
    }
   ],
   "source": [
    "# Séléctionnez la colonne de la cible (y) \n",
    "y = data['MEDV']\n",
    "\n",
    "#Affichez les 5 premières lignes de y\n",
    "print(y.head())\n"
   ]
  },
  {
   "cell_type": "code",
   "execution_count": 20,
   "id": "84a0d941",
   "metadata": {},
   "outputs": [
    {
     "name": "stdout",
     "output_type": "stream",
     "text": [
      "(379,)\n"
     ]
    }
   ],
   "source": [
    "from sklearn.model_selection import train_test_split\n",
    "# dataset split : par défaut en 75% Train et 25% Test\n",
    "X_train, X_test, y_train, y_test = train_test_split(X, y,random_state=1)\n",
    "print(y_train.shape)\n"
   ]
  },
  {
   "cell_type": "code",
   "execution_count": 9,
   "id": "852db5ca",
   "metadata": {},
   "outputs": [
    {
     "data": {
      "text/plain": [
       "LinearRegression()"
      ]
     },
     "execution_count": 9,
     "metadata": {},
     "output_type": "execute_result"
    }
   ],
   "source": [
    "# importez le modèle\n",
    "from sklearn.linear_model import LinearRegression\n",
    "\n",
    "# instantiation du modèle\n",
    "model = LinearRegression()\n",
    "\n",
    "# Entrainez le modèle sur l'ensemble d'entrainement \n",
    "model.fit(X_train, y_train)"
   ]
  },
  {
   "cell_type": "code",
   "execution_count": 10,
   "id": "324c44b0",
   "metadata": {},
   "outputs": [
    {
     "name": "stdout",
     "output_type": "stream",
     "text": [
      "42.45685498817033\n",
      "[-1.24527583e-02 -1.78338930e+01  3.36266013e+00  5.61154805e-04\n",
      " -1.09897337e+00 -1.04705547e+00 -5.88673363e-01]\n"
     ]
    },
    {
     "data": {
      "text/plain": [
       "[('INDUS', -0.012452758288057086),\n",
       " ('NOX', -17.83389304327458),\n",
       " ('RM', 3.3626601250485275),\n",
       " ('AGE', 0.0005611548051801154),\n",
       " ('DIS', -1.0989733650930371),\n",
       " ('PTRATIO', -1.0470554714986062),\n",
       " ('LSTAT', -0.5886733627335711)]"
      ]
     },
     "execution_count": 10,
     "metadata": {},
     "output_type": "execute_result"
    }
   ],
   "source": [
    "print(model.intercept_)\n",
    "print(model.coef_)\n",
    "list(zip(feature, model.coef_))"
   ]
  },
  {
   "cell_type": "code",
   "execution_count": 11,
   "id": "e9b51a5e",
   "metadata": {},
   "outputs": [],
   "source": [
    "y_pred = model.predict(X_test)"
   ]
  },
  {
   "cell_type": "code",
   "execution_count": 12,
   "id": "a504902e",
   "metadata": {},
   "outputs": [
    {
     "name": "stdout",
     "output_type": "stream",
     "text": [
      "MAE= 3.8474681338634715\n",
      "MSE= 24.527503930773417\n",
      "RMSE= 4.952525005567707\n",
      "R-squared= 0.7523936817310943\n"
     ]
    }
   ],
   "source": [
    "from sklearn.metrics import mean_absolute_error,mean_squared_error,r2_score\n",
    "\n",
    "print(\"MAE=\",mean_absolute_error(y_test,y_pred))\n",
    "print(\"MSE=\",mean_squared_error(y_test,y_pred))\n",
    "print(\"RMSE=\",mean_squared_error(y_test,y_pred,squared=False))\n",
    "print(\"R-squared=\",r2_score(y_test,y_pred))\n"
   ]
  },
  {
   "cell_type": "code",
   "execution_count": 13,
   "id": "949e6095",
   "metadata": {},
   "outputs": [
    {
     "name": "stdout",
     "output_type": "stream",
     "text": [
      "RMSE= 4.856507146776215\n"
     ]
    }
   ],
   "source": [
    "# créer une liste Python de noms de fonctionnalités\n",
    "feature = ['CRIM','INDUS','NOX','RM','AGE','DIS','PTRATIO','LSTAT']\n",
    "\n",
    "# utiliser la liste pour sélectionner un sous-ensemble du DataFrame d'origine\n",
    "X = data[feature]\n",
    "\n",
    "# Séléctionner la colonne de la cible (y) \n",
    "y = data['MEDV']\n",
    "\n",
    "# Diviser le dataset en 80% Train et 20% Test  et interdire le mélange\n",
    "X_train, X_test, y_train, y_test = train_test_split(X, y,test_size=0.2,random_state=1,shuffle=False)\n",
    "\n",
    "# instantiation du modèle\n",
    "model = LinearRegression()\n",
    "\n",
    "# Entrainer le modèle sur l'ensemble d'entrainement \n",
    "model.fit(X_train, y_train)\n",
    "\n",
    "# Faire des prédictions sur l'ensemble de test\n",
    "y_pred = model.predict(X_test)\n",
    "\n",
    "\n",
    "# Calculer le RMSE du prédiction\n",
    "print(\"RMSE=\",mean_squared_error(y_test,y_pred,squared=False))"
   ]
  },
  {
   "cell_type": "code",
   "execution_count": 14,
   "id": "fa472c72",
   "metadata": {},
   "outputs": [
    {
     "name": "stdout",
     "output_type": "stream",
     "text": [
      "MAE= 2.3798236075965193\n",
      "MSE= 10.373418667139335\n",
      "RMSE= 3.2207792018608377\n",
      "R-squared= 0.5000306554196875\n"
     ]
    }
   ],
   "source": [
    "# créer une liste Python de noms de fonctionnalités\n",
    "feature = ['CRIM','INDUS','NOX','DIS','PTRATIO','LSTAT']\n",
    "\n",
    "# utiliser la liste pour sélectionner un sous-ensemble du DataFrame d'origine\n",
    "X = data[feature]\n",
    "\n",
    "# Séléctionner la colonne de la cible (y) \n",
    "y = data['MEDV']\n",
    "\n",
    "# Diviser le dataset en 80% Train et 20% Test  et interdire le mélange\n",
    "X_train, X_test, y_train, y_test = train_test_split(X, y,test_size=0.15,random_state=1,shuffle=False)\n",
    "\n",
    "# instantiation du modèle\n",
    "model = LinearRegression()\n",
    "\n",
    "# Entrainer le modèle sur l'ensemble d'entrainement \n",
    "model.fit(X_train, y_train)\n",
    "\n",
    "# Faire des prédictions sur l'ensemble de test\n",
    "y_pred = model.predict(X_test)\n",
    "\n",
    "\n",
    "# Calculer le RMSE du prédiction\n",
    "print(\"MAE=\",mean_absolute_error(y_test,y_pred))\n",
    "print(\"MSE=\",mean_squared_error(y_test,y_pred))\n",
    "print(\"RMSE=\",mean_squared_error(y_test,y_pred,squared=False))\n",
    "print(\"R-squared=\",r2_score(y_test,y_pred))"
   ]
  },
  {
   "cell_type": "code",
   "execution_count": 15,
   "id": "2cff9b4b",
   "metadata": {},
   "outputs": [
    {
     "name": "stdout",
     "output_type": "stream",
     "text": [
      "MAE= 3.925792904328931\n",
      "MSE= 23.501226696914575\n",
      "RMSE= 4.847806379891278\n",
      "R-squared= 0.12597056566657394\n"
     ]
    }
   ],
   "source": [
    "# créer une liste Python de noms de fonctionnalités\n",
    "feature = ['CRIM','INDUS','NOX','DIS','PTRATIO','LSTAT','RM']\n",
    "\n",
    "# utiliser la liste pour sélectionner un sous-ensemble du DataFrame d'origine\n",
    "X = data[feature]\n",
    "\n",
    "# Séléctionner la colonne de la cible (y) \n",
    "y = data['MEDV']\n",
    "\n",
    "# Diviser le dataset en 80% Train et 20% Test  et interdire le mélange\n",
    "X_train, X_test, y_train, y_test = train_test_split(X, y,test_size=0.2,random_state=1,shuffle=False)\n",
    "\n",
    "# instantiation du modèle\n",
    "model = LinearRegression()\n",
    "\n",
    "# Entrainer le modèle sur l'ensemble d'entrainement \n",
    "model.fit(X_train, y_train)\n",
    "\n",
    "# Faire des prédictions sur l'ensemble de test\n",
    "y_pred = model.predict(X_test)\n",
    "\n",
    "\n",
    "# Calculer le RMSE du prédiction\n",
    "print(\"MAE=\",mean_absolute_error(y_test,y_pred))\n",
    "print(\"MSE=\",mean_squared_error(y_test,y_pred))\n",
    "print(\"RMSE=\",mean_squared_error(y_test,y_pred,squared=False))\n",
    "print(\"R-squared=\",r2_score(y_test,y_pred))"
   ]
  },
  {
   "cell_type": "code",
   "execution_count": null,
   "id": "57bf4c30",
   "metadata": {},
   "outputs": [],
   "source": []
  }
 ],
 "metadata": {
  "kernelspec": {
   "display_name": "Python 3 (ipykernel)",
   "language": "python",
   "name": "python3"
  },
  "language_info": {
   "codemirror_mode": {
    "name": "ipython",
    "version": 3
   },
   "file_extension": ".py",
   "mimetype": "text/x-python",
   "name": "python",
   "nbconvert_exporter": "python",
   "pygments_lexer": "ipython3",
   "version": "3.9.7"
  }
 },
 "nbformat": 4,
 "nbformat_minor": 5
}
